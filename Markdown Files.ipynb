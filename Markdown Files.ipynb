{
 "cells": [
  {
   "cell_type": "markdown",
   "id": "ab6d9d5a",
   "metadata": {},
   "source": [
    "# Title Header"
   ]
  },
  {
   "cell_type": "markdown",
   "id": "fbb5d4bf",
   "metadata": {},
   "source": []
  },
  {
   "cell_type": "markdown",
   "id": "4727f7d6",
   "metadata": {},
   "source": [
    "## Header 2 for major headings"
   ]
  },
  {
   "cell_type": "markdown",
   "id": "3ab4b169",
   "metadata": {},
   "source": [
    "### Header 3 for subheading"
   ]
  },
  {
   "cell_type": "markdown",
   "id": "f2d54348",
   "metadata": {},
   "source": [
    "#### Blockquotes\n",
    "> This is a good day!"
   ]
  },
  {
   "cell_type": "markdown",
   "id": "0056a4dc",
   "metadata": {},
   "source": [
    "#### Lists\n",
    "* This is bullet list 1\n",
    "* This is bullet list 2"
   ]
  },
  {
   "cell_type": "markdown",
   "id": "caf00f1a",
   "metadata": {},
   "source": [
    "#### Ordered List\n",
    "1. This is order1\n",
    "2. This is order2"
   ]
  },
  {
   "cell_type": "markdown",
   "id": "a9d1bd0d",
   "metadata": {},
   "source": [
    "#### Bold\n",
    "**This is a bold word**"
   ]
  },
  {
   "cell_type": "markdown",
   "id": "cc649514",
   "metadata": {},
   "source": [
    "##### Italic\n",
    "*These are italicized word*"
   ]
  },
  {
   "cell_type": "markdown",
   "id": "620640a2",
   "metadata": {},
   "source": [
    "#### Highlight code\n",
    "This code is `highlighted`"
   ]
  },
  {
   "cell_type": "markdown",
   "id": "be86f25b",
   "metadata": {},
   "source": [
    "#### Hyperlinks\n",
    "<a href=\"https://www.google.com/\">This link is for google.com</a>"
   ]
  },
  {
   "cell_type": "markdown",
   "id": "24a637a8",
   "metadata": {},
   "source": [
    "#### Render image\n",
    ";[Python logo](https://encrypted-tbn0.gstatic.com/images?q=tbn:ANd9GcRG2tZvA-2Wtrn33ksyGLk2qP7N7VoXXvP3IQ&usqp=CAU)"
   ]
  },
  {
   "cell_type": "code",
   "execution_count": null,
   "id": "302033b4",
   "metadata": {},
   "outputs": [],
   "source": []
  }
 ],
 "metadata": {
  "kernelspec": {
   "display_name": "Python 3 (ipykernel)",
   "language": "python",
   "name": "python3"
  },
  "language_info": {
   "codemirror_mode": {
    "name": "ipython",
    "version": 3
   },
   "file_extension": ".py",
   "mimetype": "text/x-python",
   "name": "python",
   "nbconvert_exporter": "python",
   "pygments_lexer": "ipython3",
   "version": "3.11.5"
  }
 },
 "nbformat": 4,
 "nbformat_minor": 5
}
