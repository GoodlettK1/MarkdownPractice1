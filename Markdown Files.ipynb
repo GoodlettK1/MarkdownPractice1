{
 "cells": [
  {
   "cell_type": "markdown",
   "id": "0d81432c",
   "metadata": {},
   "source": [
    "# Keith Goodlett"
   ]
  },
  {
   "cell_type": "markdown",
   "id": "972388bb",
   "metadata": {},
   "source": [
    "## Assignment 1:  Working on Markdown and Submit Using Github\n",
    "Author - Keith Goodlett, FA23-ON, Version - CS150-ON"
   ]
  },
  {
   "cell_type": "markdown",
   "id": "f2eb8e6b",
   "metadata": {},
   "source": [
    "### I am a degree completion student and have always been interested in learning how to code"
   ]
  },
  {
   "cell_type": "markdown",
   "id": "940108f7",
   "metadata": {},
   "source": [
    "#### Blockquotes\n",
    "> This is a good day!"
   ]
  },
  {
   "cell_type": "markdown",
   "id": "cede5861",
   "metadata": {},
   "source": [
    "#### Lists\n",
    "* Programming Assignments\n",
    "* Mid-term exam\n",
    "* Final exam"
   ]
  },
  {
   "cell_type": "markdown",
   "id": "592c920d",
   "metadata": {},
   "source": [
    "#### Ordered List\n",
    "1. Module 0 - Course Introduction\n",
    "2. Module 1 - Variables and Simple Data Types\n",
    "3. Module 2 – Introducing Lists, Tuples\n",
    "4. Module 3 – if Statements\n",
    "5. Module 4 – Dictionaries\n",
    "6. Module 5 – While Loop\n",
    "7. Module 6 – Functions"
   ]
  },
  {
   "cell_type": "markdown",
   "id": "90e60475",
   "metadata": {},
   "source": [
    "#### Bold\n",
    "**Python**"
   ]
  },
  {
   "cell_type": "markdown",
   "id": "7ed55cc8",
   "metadata": {},
   "source": [
    "##### Italic\n",
    "*Spyder*\n",
    "*Anaconda*\n",
    "*Github*"
   ]
  },
  {
   "cell_type": "markdown",
   "id": "3ae4380d",
   "metadata": {},
   "source": [
    "#### Highlight code\n",
    "Highlight `a block of words`in a sentence."
   ]
  },
  {
   "cell_type": "markdown",
   "id": "c40827e6",
   "metadata": {},
   "source": [
    "#### Hyperlinks\n",
    "<a href=\"https://github.com/GoodlettK1\">This link is for Keith Goodlett's Github account</a>"
   ]
  },
  {
   "cell_type": "markdown",
   "id": "8e6fccba",
   "metadata": {},
   "source": [
    "#### Render image\n",
    ";[Bellarmine \n",
    "logo](https://ih1.redbubble.net/image.1150599437.8108/st,small,507x507-pad,600x600,f8f8f8.jpg)"
   ]
  },
  {
   "cell_type": "code",
   "execution_count": null,
   "id": "88d993f0",
   "metadata": {},
   "outputs": [],
   "source": []
  }
 ],
 "metadata": {
  "kernelspec": {
   "display_name": "Python 3 (ipykernel)",
   "language": "python",
   "name": "python3"
  },
  "language_info": {
   "codemirror_mode": {
    "name": "ipython",
    "version": 3
   },
   "file_extension": ".py",
   "mimetype": "text/x-python",
   "name": "python",
   "nbconvert_exporter": "python",
   "pygments_lexer": "ipython3",
   "version": "3.11.5"
  }
 },
 "nbformat": 4,
 "nbformat_minor": 5
}
