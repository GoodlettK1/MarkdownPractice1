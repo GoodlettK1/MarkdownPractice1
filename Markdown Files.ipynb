{
 "cells": [
  {
   "cell_type": "markdown",
   "id": "6c858c16",
   "metadata": {},
   "source": [
    "# Keith Goodlett"
   ]
  },
  {
   "cell_type": "markdown",
   "id": "67101239",
   "metadata": {},
   "source": [
    "## Header 2 for major headings"
   ]
  },
  {
   "cell_type": "markdown",
   "id": "124a9c6e",
   "metadata": {},
   "source": [
    "### I am a degree completion student and have always been interested in learning how to code"
   ]
  },
  {
   "cell_type": "markdown",
   "id": "cb3505c7",
   "metadata": {},
   "source": [
    "#### Blockquotes\n",
    "> This is a good day!"
   ]
  },
  {
   "cell_type": "markdown",
   "id": "4b013d38",
   "metadata": {},
   "source": [
    "#### Lists\n",
    "* Programming Assignments\n",
    "* Mid-term exam\n",
    "* Final exam"
   ]
  },
  {
   "cell_type": "markdown",
   "id": "805f274c",
   "metadata": {},
   "source": [
    "#### Ordered List\n",
    "1. Module 0 - Course Introduction\n",
    "2. Module 1 - Variables and Simple Data Types\n",
    "3. Module 2 – Introducing Lists, Tuples\n",
    "4. Module 3 – if Statements\n",
    "5. Module 4 – Dictionaries\n",
    "6. Module 5 – While Loop\n",
    "7. Module 6 – Functions"
   ]
  },
  {
   "cell_type": "markdown",
   "id": "4b096994",
   "metadata": {},
   "source": [
    "#### Bold\n",
    "**Python**"
   ]
  },
  {
   "cell_type": "markdown",
   "id": "b342c039",
   "metadata": {},
   "source": [
    "##### Italic\n",
    "*Spyder*\n",
    "*Anaconda*\n",
    "*Github*"
   ]
  },
  {
   "cell_type": "markdown",
   "id": "380172b6",
   "metadata": {},
   "source": [
    "#### Highlight code\n",
    "Highlight `a block of words`in a sentence."
   ]
  },
  {
   "cell_type": "markdown",
   "id": "0151ca70",
   "metadata": {},
   "source": [
    "#### Hyperlinks\n",
    "<a href=\"https://github.com/GoodlettK1\">This link is for Keith Goodlett's Github account</a>"
   ]
  },
  {
   "cell_type": "markdown",
   "id": "e22e6016",
   "metadata": {},
   "source": [
    "#### Render image\n",
    ";[Bellarmine \n",
    "logo](https://ih1.redbubble.net/image.1150599437.8108/st,small,507x507-pad,600x600,f8f8f8.jpg)"
   ]
  },
  {
   "cell_type": "code",
   "execution_count": null,
   "id": "f49fd9a7",
   "metadata": {},
   "outputs": [],
   "source": []
  }
 ],
 "metadata": {
  "kernelspec": {
   "display_name": "Python 3 (ipykernel)",
   "language": "python",
   "name": "python3"
  },
  "language_info": {
   "codemirror_mode": {
    "name": "ipython",
    "version": 3
   },
   "file_extension": ".py",
   "mimetype": "text/x-python",
   "name": "python",
   "nbconvert_exporter": "python",
   "pygments_lexer": "ipython3",
   "version": "3.11.5"
  }
 },
 "nbformat": 4,
 "nbformat_minor": 5
}
